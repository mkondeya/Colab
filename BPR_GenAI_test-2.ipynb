{
  "nbformat": 4,
  "nbformat_minor": 0,
  "metadata": {
    "colab": {
      "provenance": []
    },
    "kernelspec": {
      "name": "python3",
      "display_name": "Python 3"
    },
    "language_info": {
      "name": "python"
    }
  },
  "cells": [
    {
      "cell_type": "code",
      "execution_count": 1,
      "metadata": {
        "colab": {
          "base_uri": "https://localhost:8080/"
        },
        "id": "ERbAJ_jNdAbx",
        "outputId": "aee2aa4b-2037-4b93-fae2-07b222e0a975"
      },
      "outputs": [
        {
          "output_type": "stream",
          "name": "stdout",
          "text": [
            "Requirement already satisfied: google-cloud-aiplatform in /usr/local/lib/python3.10/dist-packages (1.39.0)\n",
            "Requirement already satisfied: google-api-core[grpc]!=2.0.*,!=2.1.*,!=2.2.*,!=2.3.*,!=2.4.*,!=2.5.*,!=2.6.*,!=2.7.*,<3.0.0dev,>=1.32.0 in /usr/local/lib/python3.10/dist-packages (from google-cloud-aiplatform) (2.11.1)\n",
            "Requirement already satisfied: proto-plus<2.0.0dev,>=1.22.0 in /usr/local/lib/python3.10/dist-packages (from google-cloud-aiplatform) (1.23.0)\n",
            "Requirement already satisfied: protobuf!=3.20.0,!=3.20.1,!=4.21.0,!=4.21.1,!=4.21.2,!=4.21.3,!=4.21.4,!=4.21.5,<5.0.0dev,>=3.19.5 in /usr/local/lib/python3.10/dist-packages (from google-cloud-aiplatform) (3.20.3)\n",
            "Requirement already satisfied: packaging>=14.3 in /usr/local/lib/python3.10/dist-packages (from google-cloud-aiplatform) (23.2)\n",
            "Requirement already satisfied: google-cloud-storage<3.0.0dev,>=1.32.0 in /usr/local/lib/python3.10/dist-packages (from google-cloud-aiplatform) (2.8.0)\n",
            "Requirement already satisfied: google-cloud-bigquery<4.0.0dev,>=1.15.0 in /usr/local/lib/python3.10/dist-packages (from google-cloud-aiplatform) (3.12.0)\n",
            "Requirement already satisfied: google-cloud-resource-manager<3.0.0dev,>=1.3.3 in /usr/local/lib/python3.10/dist-packages (from google-cloud-aiplatform) (1.11.0)\n",
            "Requirement already satisfied: shapely<3.0.0dev in /usr/local/lib/python3.10/dist-packages (from google-cloud-aiplatform) (2.0.2)\n",
            "Requirement already satisfied: googleapis-common-protos<2.0.dev0,>=1.56.2 in /usr/local/lib/python3.10/dist-packages (from google-api-core[grpc]!=2.0.*,!=2.1.*,!=2.2.*,!=2.3.*,!=2.4.*,!=2.5.*,!=2.6.*,!=2.7.*,<3.0.0dev,>=1.32.0->google-cloud-aiplatform) (1.62.0)\n",
            "Requirement already satisfied: google-auth<3.0.dev0,>=2.14.1 in /usr/local/lib/python3.10/dist-packages (from google-api-core[grpc]!=2.0.*,!=2.1.*,!=2.2.*,!=2.3.*,!=2.4.*,!=2.5.*,!=2.6.*,!=2.7.*,<3.0.0dev,>=1.32.0->google-cloud-aiplatform) (2.17.3)\n",
            "Requirement already satisfied: requests<3.0.0.dev0,>=2.18.0 in /usr/local/lib/python3.10/dist-packages (from google-api-core[grpc]!=2.0.*,!=2.1.*,!=2.2.*,!=2.3.*,!=2.4.*,!=2.5.*,!=2.6.*,!=2.7.*,<3.0.0dev,>=1.32.0->google-cloud-aiplatform) (2.31.0)\n",
            "Requirement already satisfied: grpcio<2.0dev,>=1.33.2 in /usr/local/lib/python3.10/dist-packages (from google-api-core[grpc]!=2.0.*,!=2.1.*,!=2.2.*,!=2.3.*,!=2.4.*,!=2.5.*,!=2.6.*,!=2.7.*,<3.0.0dev,>=1.32.0->google-cloud-aiplatform) (1.60.0)\n",
            "Requirement already satisfied: grpcio-status<2.0.dev0,>=1.33.2 in /usr/local/lib/python3.10/dist-packages (from google-api-core[grpc]!=2.0.*,!=2.1.*,!=2.2.*,!=2.3.*,!=2.4.*,!=2.5.*,!=2.6.*,!=2.7.*,<3.0.0dev,>=1.32.0->google-cloud-aiplatform) (1.48.2)\n",
            "Requirement already satisfied: google-cloud-core<3.0.0dev,>=1.6.0 in /usr/local/lib/python3.10/dist-packages (from google-cloud-bigquery<4.0.0dev,>=1.15.0->google-cloud-aiplatform) (2.3.3)\n",
            "Requirement already satisfied: google-resumable-media<3.0dev,>=0.6.0 in /usr/local/lib/python3.10/dist-packages (from google-cloud-bigquery<4.0.0dev,>=1.15.0->google-cloud-aiplatform) (2.7.0)\n",
            "Requirement already satisfied: python-dateutil<3.0dev,>=2.7.2 in /usr/local/lib/python3.10/dist-packages (from google-cloud-bigquery<4.0.0dev,>=1.15.0->google-cloud-aiplatform) (2.8.2)\n",
            "Requirement already satisfied: grpc-google-iam-v1<1.0.0dev,>=0.12.4 in /usr/local/lib/python3.10/dist-packages (from google-cloud-resource-manager<3.0.0dev,>=1.3.3->google-cloud-aiplatform) (0.13.0)\n",
            "Requirement already satisfied: numpy>=1.14 in /usr/local/lib/python3.10/dist-packages (from shapely<3.0.0dev->google-cloud-aiplatform) (1.23.5)\n",
            "Requirement already satisfied: cachetools<6.0,>=2.0.0 in /usr/local/lib/python3.10/dist-packages (from google-auth<3.0.dev0,>=2.14.1->google-api-core[grpc]!=2.0.*,!=2.1.*,!=2.2.*,!=2.3.*,!=2.4.*,!=2.5.*,!=2.6.*,!=2.7.*,<3.0.0dev,>=1.32.0->google-cloud-aiplatform) (5.3.2)\n",
            "Requirement already satisfied: pyasn1-modules>=0.2.1 in /usr/local/lib/python3.10/dist-packages (from google-auth<3.0.dev0,>=2.14.1->google-api-core[grpc]!=2.0.*,!=2.1.*,!=2.2.*,!=2.3.*,!=2.4.*,!=2.5.*,!=2.6.*,!=2.7.*,<3.0.0dev,>=1.32.0->google-cloud-aiplatform) (0.3.0)\n",
            "Requirement already satisfied: six>=1.9.0 in /usr/local/lib/python3.10/dist-packages (from google-auth<3.0.dev0,>=2.14.1->google-api-core[grpc]!=2.0.*,!=2.1.*,!=2.2.*,!=2.3.*,!=2.4.*,!=2.5.*,!=2.6.*,!=2.7.*,<3.0.0dev,>=1.32.0->google-cloud-aiplatform) (1.16.0)\n",
            "Requirement already satisfied: rsa<5,>=3.1.4 in /usr/local/lib/python3.10/dist-packages (from google-auth<3.0.dev0,>=2.14.1->google-api-core[grpc]!=2.0.*,!=2.1.*,!=2.2.*,!=2.3.*,!=2.4.*,!=2.5.*,!=2.6.*,!=2.7.*,<3.0.0dev,>=1.32.0->google-cloud-aiplatform) (4.9)\n",
            "Requirement already satisfied: google-crc32c<2.0dev,>=1.0 in /usr/local/lib/python3.10/dist-packages (from google-resumable-media<3.0dev,>=0.6.0->google-cloud-bigquery<4.0.0dev,>=1.15.0->google-cloud-aiplatform) (1.5.0)\n",
            "Requirement already satisfied: charset-normalizer<4,>=2 in /usr/local/lib/python3.10/dist-packages (from requests<3.0.0.dev0,>=2.18.0->google-api-core[grpc]!=2.0.*,!=2.1.*,!=2.2.*,!=2.3.*,!=2.4.*,!=2.5.*,!=2.6.*,!=2.7.*,<3.0.0dev,>=1.32.0->google-cloud-aiplatform) (3.3.2)\n",
            "Requirement already satisfied: idna<4,>=2.5 in /usr/local/lib/python3.10/dist-packages (from requests<3.0.0.dev0,>=2.18.0->google-api-core[grpc]!=2.0.*,!=2.1.*,!=2.2.*,!=2.3.*,!=2.4.*,!=2.5.*,!=2.6.*,!=2.7.*,<3.0.0dev,>=1.32.0->google-cloud-aiplatform) (3.6)\n",
            "Requirement already satisfied: urllib3<3,>=1.21.1 in /usr/local/lib/python3.10/dist-packages (from requests<3.0.0.dev0,>=2.18.0->google-api-core[grpc]!=2.0.*,!=2.1.*,!=2.2.*,!=2.3.*,!=2.4.*,!=2.5.*,!=2.6.*,!=2.7.*,<3.0.0dev,>=1.32.0->google-cloud-aiplatform) (2.0.7)\n",
            "Requirement already satisfied: certifi>=2017.4.17 in /usr/local/lib/python3.10/dist-packages (from requests<3.0.0.dev0,>=2.18.0->google-api-core[grpc]!=2.0.*,!=2.1.*,!=2.2.*,!=2.3.*,!=2.4.*,!=2.5.*,!=2.6.*,!=2.7.*,<3.0.0dev,>=1.32.0->google-cloud-aiplatform) (2023.11.17)\n",
            "Requirement already satisfied: pyasn1<0.6.0,>=0.4.6 in /usr/local/lib/python3.10/dist-packages (from pyasn1-modules>=0.2.1->google-auth<3.0.dev0,>=2.14.1->google-api-core[grpc]!=2.0.*,!=2.1.*,!=2.2.*,!=2.3.*,!=2.4.*,!=2.5.*,!=2.6.*,!=2.7.*,<3.0.0dev,>=1.32.0->google-cloud-aiplatform) (0.5.1)\n"
          ]
        },
        {
          "output_type": "execute_result",
          "data": {
            "text/plain": [
              "{'status': 'ok', 'restart': True}"
            ]
          },
          "metadata": {},
          "execution_count": 1
        }
      ],
      "source": [
        "# Using gemini API for Gen AI\n",
        "#Install Vertex AI SDK for Python\n",
        "! pip3 install --upgrade --user google-cloud-aiplatform\n",
        "\n",
        "# Restart kernel after installs so that your environment can access the new packages\n",
        "import IPython\n",
        "import time\n",
        "\n",
        "app = IPython.Application.instance()\n",
        "app.kernel.do_shutdown(True)\n"
      ]
    },
    {
      "cell_type": "code",
      "source": [
        "#Setup notebook environment\n",
        "import sys\n",
        "\n",
        "# Additional authentication is required for Google Colab\n",
        "if \"google.colab\" in sys.modules:\n",
        "    # Authenticate user to Google Cloud\n",
        "    from google.colab import auth\n",
        "\n",
        "    auth.authenticate_user()\n",
        "\n",
        "if \"google.colab\" in sys.modules:\n",
        "    # Define project information\n",
        "    PROJECT_ID = \"mkon1-407915\"  # @param {type:\"string\"}\n",
        "    LOCATION = \"us-central1\"  # @param {type:\"string\"}\n",
        "\n",
        "    # Initialize Vertex AI\n",
        "    import vertexai\n",
        "\n",
        "    vertexai.init(project=PROJECT_ID, location=LOCATION)"
      ],
      "metadata": {
        "id": "Zx_WnY3Jddrq"
      },
      "execution_count": 1,
      "outputs": []
    },
    {
      "cell_type": "code",
      "source": [
        "# Code for using Gemini model prompts\n",
        "\n",
        "#import libraries\n",
        "from vertexai.preview.generative_models import (\n",
        "    GenerationConfig,\n",
        "    GenerativeModel,\n",
        ")\n",
        "\n",
        "#import model\n",
        "model = GenerativeModel(\"gemini-pro\")\n"
      ],
      "metadata": {
        "id": "JJV2-raid2yR"
      },
      "execution_count": null,
      "outputs": []
    },
    {
      "cell_type": "code",
      "source": [
        "# prompt for scenario 1 - Customer Purchase of iPhone in Apple Online Store with Shipping Method as Ship to Home (STH) and Country for Delivery is USA and Payment method as Visa Credit Card ( Happy Path)\n",
        "# Requirement - E2E01| AOS|Consumer External|US|STH | InStore | iPhone | Visa | Happy Path: Customer Journey\n",
        "\n",
        "#Sample Prompt using framework ( RISE) for text generation with fine-tuned Large Language Model\n",
        "\n",
        "#Role : Imagine you are a test engineer.\n",
        "\n",
        "#Input : Modules involved in online purchase are 1.Catalog and Search.2. Cart and Checkout3. Payment Options & Gateways4. Order & Acknowledgement5. Account Management6. Support7. Delivery Management8. Order Tracking9. Order Emails.\n",
        "#Steps : Create test scenarios module wise for use case purchase of iPhone in apple online store with shipping method as ship to home (STH) and country for delivery is USA and payment method as visa credit card .\n",
        "\n",
        "#Expected results : Test scenarios are in format use case, module ,test scenario and number , title, priority , Milestone Set, instructions and interaction with SAP system along with Tcode, Test Data and Expected results.\n",
        "##############################################################\n",
        "\n",
        "generation_config = GenerationConfig(\n",
        "    temperature=0.4,\n",
        "    top_p=1.0,\n",
        "    top_k=32,\n",
        "    #candidate_count=1,\n",
        "    max_output_tokens=2048,\n",
        "    #max_output_tokens=8192,\n",
        ")\n",
        "\n",
        "prompt = \"\"\"Role: Imagine you are a test engineer.\n",
        "Input: Modules involved in online purchase are 1.Catalog and Search.2. Cart and Checkout3. Payment Options & Gateways4. Order & Acknowledgement5. Account Management6. Support7. Delivery Management8. Order Tracking9. Order Emails.\n",
        "Steps: Create test scenarios module wise for use case purchase of iPhone in Apple online store with shipping method as ship to home (STH) and country for delivery is USA and payment method as visa credit card .\n",
        "Expected results: Test scenarios are in format use case, module, test scenario and number, title, priority, Milestone Set, instructions and interaction with SAP with Tcode, Test Data and Expected results.\"\"\"\n",
        "\n",
        "responses = model.generate_content(prompt, generation_config=generation_config,stream=True)\n",
        "\n",
        "for response in responses:\n",
        "    print(response.text, end=\"\")\n",
        "\n",
        "\n",
        "\n"
      ],
      "metadata": {
        "id": "-VnIdsbdetEu"
      },
      "execution_count": null,
      "outputs": []
    },
    {
      "cell_type": "code",
      "source": [
        "# prompt for scenario 2 - Customer Purchase of iPhone in Apple Online Store with Instant Cashback\n",
        "\n",
        "#Requirement - E2E01| AOS|Consumer External|US|STH | InStore | iPhone | Visa | Instant Cashback , Order cancellation\n",
        "\n",
        "#Sample Prompt using framework ( RISE) for text generation with fine-tuned Large Language Model\n",
        "\n",
        "#Role : Imagine you are a test engineer.\n",
        "\n",
        "#Input : Modules involved in online purchase are 1.Catalog and Search.2. Cart and Checkout3. Payment Options & Gateways4. Order & Acknowledgement5. Account Management6. Support7. Delivery Management8. Order Tracking9. Order Emails.\n",
        "#Steps : Create test scenarios in format title, instructions and interaction with SAP system along with Tcode, Test Data and expected results for purchase of iPhone in apple online store with instant cashback with shipping method as ship to home (STH) and country for delivery is USA and payment method as visa credit card  include requirements cashback promotion validation that it cannot be less than value order , cashback amount to be deducted from order subtotal , in case of order cancel , refund all amount.\n",
        "\n",
        "#Expected results : Test scenarios are in format use case, module ,test scenario and number , title, priority , Milestone Set, instructions and interaction with SAP system along with Tcode, Test Data and Expected results.\n",
        "#############################################################\n",
        "\n",
        "generation_config = GenerationConfig(\n",
        "    temperature=0.4,\n",
        "    top_p=1.0,\n",
        "    top_k=32,\n",
        "    #candidate_count=1,\n",
        "    max_output_tokens=2048,\n",
        "    #max_output_tokens=8192,\n",
        ")\n",
        "\n",
        "prompt = \"\"\"Role : Imagine you are a test engineer.\n",
        "Input : Modules involved in online purchase are 1. Catalog & Search.2. Cart & Checkout3. Payment Options & Gateways4. Order & Acknowledgement5. Account Management6. Support7. Delivery Management8. Order Tracking9. Order Emails.\n",
        "Steps :Create test scenarios in format title, instructions and interaction with SAP system along with Tcode, Test Data and expected results for purchase of iPhone in apple online store with instant cashback with shipping method as ship to home (STH) and country for delivery is USA and payment method as visa credit card include requirements cashback promotion validation that it cannot be less than value order , cashback amount to be deducted from order sub total , in case of order cancel , refund all anount.\n",
        "Expected results : Test scenarios are in format use case, module, test scenario and number , title, priority, Milestone Set, instructions and interaction with SAP system along with Tcode, Test Data and Expected results.\"\"\"\n",
        "\n",
        "responses = model.generate_content(prompt, generation_config=generation_config,stream=True)\n",
        "\n",
        "for response in responses:\n",
        "    print(response.text, end=\"\")"
      ],
      "metadata": {
        "colab": {
          "base_uri": "https://localhost:8080/"
        },
        "id": "hPFURh3MBQk2",
        "outputId": "d292351b-d30e-4dbf-ad1d-cd52dba805fb"
      },
      "execution_count": 18,
      "outputs": [
        {
          "output_type": "stream",
          "name": "stdout",
          "text": [
            "**Use Case:** Online Purchase of iPhone with Instant Cashback\n",
            "\n",
            "**Module:** Catalog & Search, Cart & Checkout, Payment Options & Gateways, Order & Acknowledgement, Account Management, Support, Delivery Management, Order Tracking, Order Emails\n",
            "\n",
            "**Test Scenario 1:** Purchase iPhone with Instant Cashback\n",
            "\n",
            "**Title:** Verify the functionality of online purchase of iPhone with instant cashback\n",
            "\n",
            "**Priority:** High\n",
            "\n",
            "**Milestone Set:** UAT\n",
            "\n",
            "**Instructions:**\n",
            "\n",
            "1. Access the Apple online store website.\n",
            "2. Search for iPhone.\n",
            "3. Select the desired iPhone model and add it to the cart.\n",
            "4. Proceed to checkout.\n",
            "5. Enter the shipping address and select the shipping method as Ship to Home (STH).\n",
            "6. Select the payment method as Visa credit card.\n",
            "7. Enter the credit card details and apply the instant cashback promotion.\n",
            "8. Verify that the cashback amount is deducted from the order subtotal.\n",
            "9. Place the order.\n",
            "10. Verify that the order is successfully placed and an order confirmation email is received.\n",
            "\n",
            "**Interaction with SAP System:**\n",
            "\n",
            "1. Use Tcode VA01 to create a sales order.\n",
            "2. Enter the customer details, shipping address, and payment method.\n",
            "3. Add the iPhone product to the sales order.\n",
            "4. Apply the instant cashback promotion using Tcode VBO1.\n",
            "5. Verify that the cashback amount is deducted from the order subtotal.\n",
            "6. Save the sales order.\n",
            "\n",
            "**Test Data:**\n",
            "\n",
            "* Customer details: Name - John Doe, Address - 123 Main Street, City - New York, State - New York, Zip Code - 10001, Country - USA\n",
            "* Shipping address: Same as customer details\n",
            "* Payment method: Visa credit card, Card Number - 4111-1111-1111-1111, Expiry Date - 01/25, CVV - 123\n",
            "* iPhone product: iPhone 13 Pro, 128GB, Space Gray\n",
            "* Instant cashback promotion: 10% cashback up to $100\n",
            "\n",
            "**Expected Results:**\n",
            "\n",
            "* The order is successfully placed and an order confirmation email is received.\n",
            "* The cashback amount is deducted from the order subtotal.\n",
            "* The order status is updated to \"Shipped\" after the iPhone is shipped.\n",
            "* The customer receives the iPhone and the cashback amount is credited to their credit card account.\n",
            "\n",
            "**Test Scenario 2:** Cancel Order and Verify Refund\n",
            "\n",
            "**Title:** Verify the functionality of order cancellation and refund\n",
            "\n",
            "**Priority:** Medium\n",
            "\n",
            "**Milestone Set:** UAT\n",
            "\n",
            "**Instructions:**\n",
            "\n",
            "1. Access the Apple online store website and log in to the customer account.\n",
            "2. Navigate to the order history page.\n",
            "3. Select the order that was placed in Test Scenario 1.\n",
            "4. Click on the \"Cancel Order\" button.\n",
            "5. Verify that the order is successfully canceled and a cancellation confirmation email is received.\n",
            "6. Verify that the full amount of the order, including the cashback amount, is refunded to the customer's credit card account.\n",
            "\n",
            "**Interaction with SAP System:**\n",
            "\n",
            "1. Use Tcode VA02 to display the sales order that was created in Test Scenario 1.\n",
            "2. Click on the \"Cancel Order\" button.\n",
            "3. Enter the cancellation reason and save the sales order.\n",
            "4. Use Tcode VF01 to create a credit memo for the canceled order.\n",
            "5. Enter the credit memo details and save the credit memo.\n",
            "\n",
            "**Test Data:**\n",
            "\n",
            "* Sales order number: The sales order number that was created in Test Scenario 1\n",
            "* Cancellation reason: Customer changed their mind\n",
            "\n",
            "**Expected Results:**\n",
            "\n",
            "* The order is successfully canceled and a cancellation confirmation email is received.\n",
            "* The full amount of the order, including the cashback amount, is refunded to the customer's credit card account.\n",
            "* The credit memo is successfully created and posted."
          ]
        }
      ]
    }
  ]
}